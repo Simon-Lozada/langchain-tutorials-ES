{
 "cells": [
  {
   "cell_type": "markdown",
   "id": "a07e6c78",
   "metadata": {
    "id": "a07e6c78"
   },
   "source": [
    "## Zapier API de acciones de lenguaje natural\n",
    "Documentos completos aquí: https://nla.zapier.com/api/v1/dynamic/docs"
   ]
  },
  {
   "cell_type": "markdown",
   "id": "m7-NIddyydkO",
   "metadata": {
    "id": "m7-NIddyydkO"
   },
   "source": [
    "### Zapier API\n",
    " Esta api nos permite conectarnos con distintas redes scioales, usar gmail, o administras corresros de slack. Todosd los permisos y utorizaciones se dan atravez de su web oficial "
   ]
  },
  {
   "cell_type": "markdown",
   "id": "a994f3cd",
   "metadata": {
    "id": "a994f3cd"
   },
   "source": [
    "### Uso de un agente"
   ]
  },
  {
   "cell_type": "code",
   "execution_count": null,
   "id": "cc720bda",
   "metadata": {
    "id": "cc720bda"
   },
   "outputs": [],
   "source": [
    "from langchain.llms import OpenAI\n",
    "from langchain.agents import initialize_agent\n",
    "from langchain.agents.agent_toolkits import ZapierToolkit\n",
    "from langchain.utilities.zapier import ZapierNLAWrapper\n",
    "import os"
   ]
  },
  {
   "cell_type": "code",
   "execution_count": null,
   "id": "b572d4a7",
   "metadata": {
    "hide_input": false,
    "id": "b572d4a7"
   },
   "outputs": [],
   "source": [
    "os.environ[\"OPENAI_API_KEY\"] = '...'\n",
    "os.environ[\"ZAPIER_NLA_API_KEY\"] = '...'"
   ]
  },
  {
   "cell_type": "code",
   "execution_count": null,
   "id": "ded109ef",
   "metadata": {
    "id": "ded109ef"
   },
   "outputs": [],
   "source": [
    "llm = OpenAI(temperature=.3)\n",
    "zapier = ZapierNLAWrapper()\n",
    "toolkit = ZapierToolkit.from_zapier_nla_wrapper(zapier)\n",
    "agent = initialize_agent(toolkit.get_tools(), llm, agent=\"zero-shot-react-description\", verbose=True)"
   ]
  },
  {
   "cell_type": "code",
   "execution_count": null,
   "id": "5edadb8b",
   "metadata": {
    "id": "5edadb8b"
   },
   "outputs": [],
   "source": [
    "for tool in toolkit.get_tools():\n",
    "    print (tool.name)\n",
    "    print (tool.description)\n",
    "    print (\"\\n\\n\")"
   ]
  },
  {
   "cell_type": "code",
   "execution_count": null,
   "id": "42dd7a75",
   "metadata": {
    "id": "42dd7a75"
   },
   "outputs": [],
   "source": [
    "agent.run(\"\"\"Resuma el último correo electrónico que recibí de greg en Data Independent.\n",
    "Envía el resumen al canal de dominios de tendencia en slack.\"\"\")"
   ]
  },
  {
   "cell_type": "code",
   "execution_count": null,
   "id": "70222dec",
   "metadata": {
    "id": "70222dec"
   },
   "outputs": [],
   "source": [
    "agent.run(\"Obtenga el último correo electrónico que recibí de greg en Data Independent. Resume la respuesta y crea un tweet\")"
   ]
  },
  {
   "cell_type": "code",
   "execution_count": null,
   "id": "f8809e78",
   "metadata": {
    "id": "f8809e78"
   },
   "outputs": [],
   "source": [
    "agent.run(\"\"\"Obtenga el último correo electrónico que recibí de greg en Data Independent.\n",
    "          Cree un borrador de correo electrónico en Gmail para Greg con una buena respuesta positiva\"\"\")"
   ]
  },
  {
   "cell_type": "code",
   "execution_count": null,
   "id": "60698fa2",
   "metadata": {
    "id": "60698fa2"
   },
   "outputs": [],
   "source": [
    "agent.run(\"\"\"Obtenga el último correo electrónico que recibí de greg en Data Independent.\n",
    "Encuentre un buen gif que coincida con la intención del correo electrónico y envíe el gif a los dominios de moda en slack\"\"\")"
   ]
  },
  {
   "cell_type": "code",
   "execution_count": null,
   "id": "1fd1ebc6",
   "metadata": {
    "id": "1fd1ebc6"
   },
   "outputs": [],
   "source": [
    "agent.run(\"\"\"Crea un tweet que diga, 'langchain + zapier es genial'. \\\n",
    "Redactar un correo electrónico en gmail para greg @ data independiente compartiendo mi tweet con un mensaje personalizado\"\"\")"
   ]
  }
 ],
 "metadata": {
  "colab": {
   "provenance": []
  },
  "kernelspec": {
   "display_name": "Python 3 (ipykernel)",
   "language": "python",
   "name": "python3"
  },
  "language_info": {
   "codemirror_mode": {
    "name": "ipython",
    "version": 3
   },
   "file_extension": ".py",
   "mimetype": "text/x-python",
   "name": "python",
   "nbconvert_exporter": "python",
   "pygments_lexer": "ipython3",
   "version": "3.9.16"
  }
 },
 "nbformat": 4,
 "nbformat_minor": 5
}
