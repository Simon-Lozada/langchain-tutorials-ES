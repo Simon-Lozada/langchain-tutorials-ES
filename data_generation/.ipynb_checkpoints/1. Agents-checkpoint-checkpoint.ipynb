{
 "cells": [
  {
   "cell_type": "markdown",
   "id": "5170bf5b",
   "metadata": {},
   "source": [
    "# Agents - Make OpenAI Do Things For you"
   ]
  },
  {
   "cell_type": "markdown",
   "id": "8d9faa06",
   "metadata": {},
   "source": [
    "*[Source](https://langchain.readthedocs.io/en/latest/modules/agents/getting_started.html)*\n",
    "* **Agente**: los agentes usan un LLM para determinar qué acciones tomar y en qué orden. Una acción puede ser usar una herramienta y observar su salida, o regresar al usuario.\n",
    "\n",
    "Parámetros al crear un agente:\n",
    "* **Herramienta:** Una función que realiza un deber específico. Esto puede ser cosas como: búsqueda de Google, búsqueda de base de datos, Python REPL, otras cadenas. La interfaz de una herramienta actualmente es una función que se espera que tenga una cadena como entrada, con una cadena como salida.\n",
    "* **LLM:** El modelo de lenguaje que impulsa al agente.\n",
    "* **Agente:** El agente a usar. Debe ser una cadena que haga referencia a una clase de agente de soporte. Debido a que este cuaderno se enfoca en la API más simple y de más alto nivel, esto solo cubre el uso de los agentes admitidos estándar. Si desea implementar un agente personalizado, consulte la documentación para agentes personalizados (próximamente)."
   ]
  },
  {
   "cell_type": "code",
   "execution_count": 7,
   "id": "7f247903",
   "metadata": {},
   "outputs": [],
   "source": [
    "from langchain.agents import load_tools\n",
    "from langchain.agents import initialize_agent\n",
    "from langchain.llms import OpenAI"
   ]
  },
  {
   "cell_type": "markdown",
   "id": "0bd3670a",
   "metadata": {},
   "source": [
    "### Lista de herramientas\n",
    "1. **python_repl -** Un shell de Python. Use esto para ejecutar comandos de python. La entrada debe ser un comando de python válido. Si espera una salida, debe imprimirse.\n",
    "2. **serpapi [Completo] -** Un motor de búsqueda. Útil para cuando necesita responder preguntas sobre eventos actuales. La entrada debe ser una consulta de búsqueda.\n",
    "3. **wolfram-alpha [Completo] -** Un motor de búsqueda wolfram alpha. Útil para cuando necesites responder preguntas sobre Matemáticas, Ciencias, Tecnología, Cultura, Sociedad y Vida Cotidiana. La entrada debe ser una consulta de búsqueda.\n",
    "4. **solicitudes -** Un portal de internet. Use esto cuando necesite obtener contenido específico de un sitio. La entrada debe ser una URL específica y la salida será todo el texto de esa página.\n",
    "5. **terminal -** Ejecuta comandos en una terminal. La entrada debe ser comandos válidos, y la salida será cualquier resultado de ejecutar ese comando.\n",
    "6. **pal-math -** Un modelo de lenguaje que es excelente para resolver problemas matemáticos complejos. La entrada debe ser un problema matemático de palabras difíciles completamente redactado.\n",
    "7. **pal-colored-objects -** Un modelo de lenguaje que es maravilloso para razonar sobre la posición y los atributos de color de los objetos. La entrada debe ser un problema de razonamiento duro completamente redactado. Asegúrese de incluir toda la información sobre los objetos Y la pregunta final que desea responder.\n",
    "8. **llm-math -** Útil cuando necesitas responder preguntas sobre matemáticas.\n",
    "9. **open-meteo-api -** Útil para cuando desea obtener información meteorológica de la API de OpenMeteo. La entrada debe ser una pregunta en lenguaje natural que esta API pueda responder.\n",
    "10. **news-api -** Use esto cuando desee obtener información sobre los principales titulares de noticias actuales. La entrada debe ser una pregunta en lenguaje natural que esta API pueda responder.\n",
    "11. **tmdb-api -** Útil para cuando desea obtener información de The Movie Database. La entrada debe ser una pregunta en lenguaje natural que esta API pueda responder.\n",
    "12. **google-search -** Un envoltorio alrededor de la Búsqueda de Google. Útil para cuando necesita responder preguntas sobre eventos actuales. La entrada debe ser una consulta de búsqueda."
   ]
  },
  {
   "cell_type": "markdown",
   "id": "83032dcf",
   "metadata": {},
   "source": [
    "### 2. SERP API"
   ]
  },
  {
   "cell_type": "code",
   "execution_count": 8,
   "id": "0c90ba74",
   "metadata": {},
   "outputs": [],
   "source": [
    "from langchain.agents import load_tools\n",
    "\n",
    "import os\n",
    "OPENAI_API_KEY = \"\"\n",
    "os.environ['OPENAI_API_KEY'] = OPENAI_API_KEY\n",
    "SERPAPI_API_KEY=\"\"\n",
    "os.environ['SERPAPI_API_KEY'] = SERPAPI_API_KEY"
   ]
  },
  {
   "cell_type": "code",
   "execution_count": 9,
   "id": "d0f2fd44",
   "metadata": {},
   "outputs": [],
   "source": [
    "llm = OpenAI(temperature=0)"
   ]
  },
  {
   "cell_type": "code",
   "execution_count": 10,
   "id": "f26a0dd5",
   "metadata": {},
   "outputs": [],
   "source": [
    "tool_names = [\"serpapi\"]\n",
    "tools = load_tools(tool_names)"
   ]
  },
  {
   "cell_type": "code",
   "execution_count": 11,
   "id": "e8a35518",
   "metadata": {},
   "outputs": [],
   "source": [
    "agent = initialize_agent(tools, llm, agent=\"zero-shot-react-description\", verbose=True)"
   ]
  },
  {
   "cell_type": "code",
   "execution_count": 12,
   "id": "829a2d67",
   "metadata": {},
   "outputs": [
    {
     "name": "stdout",
     "output_type": "stream",
     "text": [
      "\n",
      "\n",
      "\u001b[1m> Entering new AgentExecutor chain...\u001b[0m\n",
      "\u001b[32;1m\u001b[1;3m I should research this online.\n",
      "Action: Search\n",
      "Action Input: \"LangChain\"\u001b[0m\n",
      "Observation: \u001b[36;1m\u001b[1;3mLangChain provides a standard interface for memory, a collection of memory implementations, and examples of chains/agents that use memory.\u001b[0m\n",
      "Thought:\u001b[32;1m\u001b[1;3m I now know the final answer.\n",
      "Final Answer: LangChain is a platform for building memory-based AI agents.\u001b[0m\n",
      "\n",
      "\u001b[1m> Finished chain.\u001b[0m\n"
     ]
    },
    {
     "data": {
      "text/plain": [
       "'LangChain is a platform for building memory-based AI agents.'"
      ]
     },
     "execution_count": 12,
     "metadata": {},
     "output_type": "execute_result"
    }
   ],
   "source": [
    "agent.run(\"What is LangChain?\")"
   ]
  },
  {
   "cell_type": "code",
   "execution_count": 14,
   "id": "b4cc45f6",
   "metadata": {},
   "outputs": [
    {
     "name": "stdout",
     "output_type": "stream",
     "text": [
      "\n",
      "\n",
      "\u001b[1m> Entering new AgentExecutor chain...\u001b[0m\n",
      "\u001b[32;1m\u001b[1;3m I should search for the answer\n",
      "Action: Search\n",
      "Action Input: \"RedCarpetUp.com CEO\"\u001b[0m\n",
      "Observation: \u001b[36;1m\u001b[1;3mKartik Venkataraman - Founder\u001b[0m\n",
      "Thought:\u001b[32;1m\u001b[1;3m I now know the final answer\n",
      "Final Answer: Kartik Venkataraman is the CEO of RedCarpetUp.com.\u001b[0m\n",
      "\n",
      "\u001b[1m> Finished chain.\u001b[0m\n"
     ]
    },
    {
     "data": {
      "text/plain": [
       "'Kartik Venkataraman is the CEO of RedCarpetUp.com.'"
      ]
     },
     "execution_count": 14,
     "metadata": {},
     "output_type": "execute_result"
    }
   ],
   "source": [
    "# Input should be a search query.\n",
    "agent.run(\"who is the ceo of RedCarpetUp.com?\")"
   ]
  },
  {
   "cell_type": "markdown",
   "id": "1869cabc",
   "metadata": {},
   "source": [
    "### 3. Wolfram Alpha"
   ]
  },
  {
   "cell_type": "code",
   "execution_count": 15,
   "id": "d9714e64",
   "metadata": {},
   "outputs": [
    {
     "name": "stdout",
     "output_type": "stream",
     "text": [
      "Defaulting to user installation because normal site-packages is not writeable\n",
      "Collecting wolframalpha\n",
      "  Downloading wolframalpha-5.0.0-py3-none-any.whl (7.5 kB)\n",
      "Collecting xmltodict\n",
      "  Downloading xmltodict-0.13.0-py2.py3-none-any.whl (10.0 kB)\n",
      "Requirement already satisfied: more-itertools in /usr/lib/python3/dist-packages (from wolframalpha) (8.10.0)\n",
      "Collecting jaraco.context\n",
      "  Downloading jaraco.context-4.3.0-py3-none-any.whl (5.3 kB)\n",
      "Installing collected packages: xmltodict, jaraco.context, wolframalpha\n",
      "Successfully installed jaraco.context-4.3.0 wolframalpha-5.0.0 xmltodict-0.13.0\n"
     ]
    }
   ],
   "source": [
    "!pip install wolframalpha"
   ]
  },
  {
   "cell_type": "code",
   "execution_count": 68,
   "id": "0fd02098",
   "metadata": {},
   "outputs": [],
   "source": [
    "from langchain.agents import load_tools\n",
    "\n",
    "# import os\n",
    "\n",
    "# os.environ['OPENAI_API_KEY'] = \"...\"\n",
    "# os.environ['WOLFRAM_ALPHA_APPID'] = \"..\""
   ]
  },
  {
   "cell_type": "code",
   "execution_count": 69,
   "id": "7a96dfdd",
   "metadata": {},
   "outputs": [],
   "source": [
    "llm = OpenAI(temperature=0)"
   ]
  },
  {
   "cell_type": "code",
   "execution_count": 70,
   "id": "1ba4200b",
   "metadata": {},
   "outputs": [],
   "source": [
    "tool_names = [\"wolfram-alpha\"]\n",
    "tools = load_tools(tool_names)"
   ]
  },
  {
   "cell_type": "code",
   "execution_count": 74,
   "id": "4716e3a8",
   "metadata": {},
   "outputs": [],
   "source": [
    "agent = initialize_agent(tools, llm, agent=\"zero-shot-react-description\", verbose=True)"
   ]
  },
  {
   "cell_type": "code",
   "execution_count": 75,
   "id": "89e0d255",
   "metadata": {},
   "outputs": [
    {
     "data": {
      "text/plain": [
       "'The asthenosphere is the lower layer of the crust.'"
      ]
     },
     "execution_count": 75,
     "metadata": {},
     "output_type": "execute_result"
    }
   ],
   "source": [
    "# La entrada debe ser una consulta de búsqueda.\n",
    "\n",
    "agent.run(\"What is the asthenosphere?\")"
   ]
  }
 ],
 "metadata": {
  "kernelspec": {
   "display_name": "Python 3 (ipykernel)",
   "language": "python",
   "name": "python3"
  },
  "language_info": {
   "codemirror_mode": {
    "name": "ipython",
    "version": 3
   },
   "file_extension": ".py",
   "mimetype": "text/x-python",
   "name": "python",
   "nbconvert_exporter": "python",
   "pygments_lexer": "ipython3",
   "version": "3.9.13"
  }
 },
 "nbformat": 4,
 "nbformat_minor": 5
}
